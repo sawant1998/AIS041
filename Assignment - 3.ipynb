{
 "cells": [
  {
   "cell_type": "markdown",
   "metadata": {},
   "source": [
    "# Python Exercise No: 3 "
   ]
  },
  {
   "cell_type": "markdown",
   "metadata": {},
   "source": [
    "# Subject: List and Tuple in python "
   ]
  },
  {
   "cell_type": "markdown",
   "metadata": {},
   "source": [
    "### 1. What is tuple? "
   ]
  },
  {
   "cell_type": "markdown",
   "metadata": {},
   "source": [
    "- Tuples are an ordered sequnce of mixed data types.\n",
    "- Tuples are written as comma-separated elements within parenthesis.\n"
   ]
  },
  {
   "cell_type": "markdown",
   "metadata": {},
   "source": [
    "### 2. What is difference between list and tuple? "
   ]
  },
  {
   "cell_type": "markdown",
   "metadata": {},
   "source": [
    "- The main difference between lists and tuples is the fact that lists are mutable whereas tuples are immutable.\n",
    "- List is useful for insertion and deletion operations.\n",
    "- Tuple is useful for readonly operations like accessing elements.\n",
    "- A list is created using square brackets [] whereas the tuple is ceated using parenthesis ().\n"
   ]
  },
  {
   "cell_type": "markdown",
   "metadata": {},
   "source": [
    "### 3. What is the result of range (1, 12, 2)? "
   ]
  },
  {
   "cell_type": "code",
   "execution_count": 1,
   "metadata": {},
   "outputs": [
    {
     "data": {
      "text/plain": [
       "range(1, 12, 2)"
      ]
     },
     "execution_count": 1,
     "metadata": {},
     "output_type": "execute_result"
    }
   ],
   "source": [
    "a=range(1,12,2)\n",
    "a"
   ]
  },
  {
   "cell_type": "markdown",
   "metadata": {},
   "source": [
    "### 4. Assuming a= [10, 20, 30, 40, 50] "
   ]
  },
  {
   "cell_type": "markdown",
   "metadata": {},
   "source": [
    "#### 1. Find length of a list? "
   ]
  },
  {
   "cell_type": "code",
   "execution_count": 2,
   "metadata": {},
   "outputs": [
    {
     "data": {
      "text/plain": [
       "5"
      ]
     },
     "execution_count": 2,
     "metadata": {},
     "output_type": "execute_result"
    }
   ],
   "source": [
    "a=[10, 20, 30, 40, 50]\n",
    "length=len(a)\n",
    "length\n"
   ]
  },
  {
   "cell_type": "markdown",
   "metadata": {},
   "source": [
    "#### 2. Find maximum and minimum number of a list "
   ]
  },
  {
   "cell_type": "code",
   "execution_count": 3,
   "metadata": {},
   "outputs": [
    {
     "name": "stdout",
     "output_type": "stream",
     "text": [
      "The maximum & minumum  number of list is 50,10\n"
     ]
    }
   ],
   "source": [
    "maximum=max(a)\n",
    "minimum=min(a)\n",
    "print(\"The maximum & minumum  number of list is {},{}\".format(maximum,minimum))"
   ]
  },
  {
   "cell_type": "markdown",
   "metadata": {},
   "source": [
    "### 5. If x=(1,2,3,4,5,1,3,1) then what is the result of x*2 and x.count(1)? "
   ]
  },
  {
   "cell_type": "code",
   "execution_count": 4,
   "metadata": {},
   "outputs": [
    {
     "name": "stdout",
     "output_type": "stream",
     "text": [
      "(1, 2, 3, 4, 5, 1, 3, 1)\n",
      "(1, 2, 3, 4, 5, 1, 3, 1, 1, 2, 3, 4, 5, 1, 3, 1)\n",
      "3\n"
     ]
    }
   ],
   "source": [
    "x=(1,2,3,4,5,1,3,1)\n",
    "print(x)\n",
    "a=x*2\n",
    "print(a)\n",
    "b=x.count(1)\n",
    "print(b)"
   ]
  },
  {
   "cell_type": "markdown",
   "metadata": {},
   "source": [
    "### 6. Create a list of colors name and then print first and last color name of the list using slicing? "
   ]
  },
  {
   "cell_type": "code",
   "execution_count": 5,
   "metadata": {},
   "outputs": [
    {
     "name": "stdout",
     "output_type": "stream",
     "text": [
      "['Black', 'Pink', 'Red', 'Yellow', 'Green']\n",
      "['Black']\n",
      "['Green']\n"
     ]
    }
   ],
   "source": [
    "colors=[\"Black\",\"Pink\",\"Red\",\"Yellow\",\"Green\"]\n",
    "print(colors)\n",
    "first=colors[:1]\n",
    "print(first)\n",
    "last=colors[-1:]\n",
    "print(last)"
   ]
  },
  {
   "cell_type": "markdown",
   "metadata": {},
   "source": [
    "### 7. If list = [1,4,7,'a','c',\"rat\",\"mat\",4,6,4] then  add element 12 using append method and remove rat element using remove method  in the given list? "
   ]
  },
  {
   "cell_type": "code",
   "execution_count": 6,
   "metadata": {},
   "outputs": [
    {
     "name": "stdout",
     "output_type": "stream",
     "text": [
      "[1, 4, 7, 'a', 'c', 'rat', 'mat', 4, 6, 4]\n"
     ]
    }
   ],
   "source": [
    "L = [1,4,7,'a','c',\"rat\",\"mat\",4,6,4]\n",
    "print(L)\n"
   ]
  },
  {
   "cell_type": "code",
   "execution_count": 7,
   "metadata": {},
   "outputs": [
    {
     "data": {
      "text/plain": [
       "[1, 4, 7, 'a', 'c', 'rat', 'mat', 4, 6, 4, 12]"
      ]
     },
     "execution_count": 7,
     "metadata": {},
     "output_type": "execute_result"
    }
   ],
   "source": [
    "L.append(12)\n",
    "L"
   ]
  },
  {
   "cell_type": "code",
   "execution_count": 8,
   "metadata": {},
   "outputs": [
    {
     "data": {
      "text/plain": [
       "[1, 4, 7, 'a', 'c', 'mat', 4, 6, 4, 12]"
      ]
     },
     "execution_count": 8,
     "metadata": {},
     "output_type": "execute_result"
    }
   ],
   "source": [
    "L.remove(\"rat\")\n",
    "L"
   ]
  },
  {
   "cell_type": "markdown",
   "metadata": {},
   "source": [
    "### 8. Create two list and concatenate them and then repeat 1st list 3 times? "
   ]
  },
  {
   "cell_type": "code",
   "execution_count": 9,
   "metadata": {},
   "outputs": [
    {
     "name": "stdout",
     "output_type": "stream",
     "text": [
      "['Chemistry', 'Biology', 'Statistics']\n",
      "[5, 8, 3]\n",
      "Concatenated list is  ['Chemistry', 'Biology', 'Statistics', 5, 8, 3]\n"
     ]
    }
   ],
   "source": [
    "L1 = [\"Chemistry\", \"Biology\",\"Statistics\"]\n",
    "print(L1)\n",
    "L2= [5,8,3]\n",
    "print(L2)\n",
    "\n",
    "new=L1 + L2\n",
    "print (\"Concatenated list is \",new)"
   ]
  },
  {
   "cell_type": "code",
   "execution_count": 12,
   "metadata": {},
   "outputs": [
    {
     "data": {
      "text/plain": [
       "['Chemistry',\n",
       " 'Biology',\n",
       " 'Statistics',\n",
       " 'Chemistry',\n",
       " 'Biology',\n",
       " 'Statistics',\n",
       " 'Chemistry',\n",
       " 'Biology',\n",
       " 'Statistics']"
      ]
     },
     "execution_count": 12,
     "metadata": {},
     "output_type": "execute_result"
    }
   ],
   "source": [
    "L1*3"
   ]
  },
  {
   "cell_type": "markdown",
   "metadata": {},
   "source": [
    "### 9. Create a tuple of fruits name and then access first 4 elements from the tuple? "
   ]
  },
  {
   "cell_type": "code",
   "execution_count": 13,
   "metadata": {},
   "outputs": [
    {
     "name": "stdout",
     "output_type": "stream",
     "text": [
      "['Mango', 'Banana', 'Strawberry', 'Pineapple', 'Apple']\n"
     ]
    },
    {
     "data": {
      "text/plain": [
       "['Mango', 'Banana', 'Strawberry', 'Pineapple']"
      ]
     },
     "execution_count": 13,
     "metadata": {},
     "output_type": "execute_result"
    }
   ],
   "source": [
    "fruits=[\"Mango\",\"Banana\",\"Strawberry\",\"Pineapple\",\"Apple\"]\n",
    "print(fruits)\n",
    "fruits[0:4]"
   ]
  },
  {
   "cell_type": "markdown",
   "metadata": {},
   "source": [
    "### 10 .Create a list using range function and then convert this list into tuple using tuple function? "
   ]
  },
  {
   "cell_type": "code",
   "execution_count": 16,
   "metadata": {},
   "outputs": [
    {
     "name": "stdout",
     "output_type": "stream",
     "text": [
      "[10, 11, 12, 13, 14, 15, 16, 17, 18, 19, 20]\n"
     ]
    }
   ],
   "source": [
    "My_list = [*range(10, 21, 1)] \n",
    "print(My_list) "
   ]
  },
  {
   "cell_type": "code",
   "execution_count": 17,
   "metadata": {},
   "outputs": [
    {
     "data": {
      "text/plain": [
       "(10, 11, 12, 13, 14, 15, 16, 17, 18, 19, 20)"
      ]
     },
     "execution_count": 17,
     "metadata": {},
     "output_type": "execute_result"
    }
   ],
   "source": [
    "tup=tuple(My_list)\n",
    "tup"
   ]
  },
  {
   "cell_type": "markdown",
   "metadata": {},
   "source": [
    "### 11. Create a tuple using eval function and then obtained the length of tuple? "
   ]
  },
  {
   "cell_type": "markdown",
   "metadata": {},
   "source": [
    "The eval() allows us to execute arbitrary strings as Python code. It accepts a source string and returns an object.\n",
    "\n",
    "Its syntax is as follows:\n",
    "\n",
    "eval(expr, globals=None, locals=None)\n",
    "- expression - the string parsed and evaluated as a Python expression\n",
    "- globals (optional) - a dictionary\n",
    "- locals (optional)- a mapping object. Dictionary is the standard and commonly used mapping type in Python."
   ]
  },
  {
   "cell_type": "code",
   "execution_count": 27,
   "metadata": {},
   "outputs": [
    {
     "data": {
      "text/plain": [
       "'python python python python python '"
      ]
     },
     "execution_count": 27,
     "metadata": {},
     "output_type": "execute_result"
    }
   ],
   "source": [
    "a=eval(\"'python '*5\")\n",
    "a"
   ]
  },
  {
   "cell_type": "code",
   "execution_count": 28,
   "metadata": {},
   "outputs": [
    {
     "data": {
      "text/plain": [
       "35"
      ]
     },
     "execution_count": 28,
     "metadata": {},
     "output_type": "execute_result"
    }
   ],
   "source": [
    "len(a)"
   ]
  },
  {
   "cell_type": "markdown",
   "metadata": {},
   "source": [
    "### 12. Create a tuple of integer number and then sort the elements of tuple? "
   ]
  },
  {
   "cell_type": "code",
   "execution_count": 34,
   "metadata": {},
   "outputs": [
    {
     "name": "stdout",
     "output_type": "stream",
     "text": [
      "(15, 2, 30, 67, 8, 50, 13, 1)\n"
     ]
    },
    {
     "data": {
      "text/plain": [
       "[1, 2, 8, 13, 15, 30, 50, 67]"
      ]
     },
     "execution_count": 34,
     "metadata": {},
     "output_type": "execute_result"
    }
   ],
   "source": [
    "tup=(15,2,30,67,8,50,13,1)\n",
    "print(tup)\n",
    "sort=sorted(tup)\n",
    "sort"
   ]
  },
  {
   "cell_type": "markdown",
   "metadata": {},
   "source": [
    "### 13. Create a list of colors name and then insert purple color on 3rd position using insert method? "
   ]
  },
  {
   "cell_type": "code",
   "execution_count": 39,
   "metadata": {},
   "outputs": [
    {
     "name": "stdout",
     "output_type": "stream",
     "text": [
      "['Black', 'Pink', 'Red', 'Yellow', 'Green']\n",
      "New list is  ['Black', 'Pink', 'Purple', 'Red', 'Yellow', 'Green']\n"
     ]
    }
   ],
   "source": [
    "colors=[\"Black\",\"Pink\",\"Red\",\"Yellow\",\"Green\"]\n",
    "print(colors)\n",
    "\n",
    "colors.insert(2,\"Purple\")\n",
    "print(\"New list is \",colors)"
   ]
  },
  {
   "cell_type": "markdown",
   "metadata": {},
   "source": [
    "### 14. If x= (50, 60, 70, 80, 90, (200,100)) then access 200,100 from the tuple? "
   ]
  },
  {
   "cell_type": "code",
   "execution_count": 40,
   "metadata": {},
   "outputs": [
    {
     "data": {
      "text/plain": [
       "(50, 60, 70, 80, 90, (200, 100))"
      ]
     },
     "execution_count": 40,
     "metadata": {},
     "output_type": "execute_result"
    }
   ],
   "source": [
    "x= (50, 60, 70, 80, 90, (200,100)) \n",
    "x"
   ]
  },
  {
   "cell_type": "code",
   "execution_count": 41,
   "metadata": {},
   "outputs": [
    {
     "data": {
      "text/plain": [
       "(200, 100)"
      ]
     },
     "execution_count": 41,
     "metadata": {},
     "output_type": "execute_result"
    }
   ],
   "source": [
    "x[5]"
   ]
  },
  {
   "cell_type": "markdown",
   "metadata": {},
   "source": [
    "### 15. Create a nested tuple and nested list? "
   ]
  },
  {
   "cell_type": "code",
   "execution_count": 42,
   "metadata": {},
   "outputs": [
    {
     "data": {
      "text/plain": [
       "['Chemistry', 'Biology', [1989, 2004], (5.8, 6.3)]"
      ]
     },
     "execution_count": 42,
     "metadata": {},
     "output_type": "execute_result"
    }
   ],
   "source": [
    "L = [\"Chemistry\", \"Biology\", [1989, 2004], (5.8, 6.3)]\n",
    "L"
   ]
  },
  {
   "cell_type": "code",
   "execution_count": 43,
   "metadata": {},
   "outputs": [
    {
     "data": {
      "text/plain": [
       "(1, 5, 'Disco', ('Python', 'Java'))"
      ]
     },
     "execution_count": 43,
     "metadata": {},
     "output_type": "execute_result"
    }
   ],
   "source": [
    "t = (1,5,\"Disco\", (\"Python\", \"Java\"))\n",
    "t"
   ]
  },
  {
   "cell_type": "code",
   "execution_count": null,
   "metadata": {},
   "outputs": [],
   "source": []
  }
 ],
 "metadata": {
  "kernelspec": {
   "display_name": "Python 3",
   "language": "python",
   "name": "python3"
  },
  "language_info": {
   "codemirror_mode": {
    "name": "ipython",
    "version": 3
   },
   "file_extension": ".py",
   "mimetype": "text/x-python",
   "name": "python",
   "nbconvert_exporter": "python",
   "pygments_lexer": "ipython3",
   "version": "3.7.7"
  }
 },
 "nbformat": 4,
 "nbformat_minor": 2
}
