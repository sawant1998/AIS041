{
 "cells": [
  {
   "cell_type": "markdown",
   "metadata": {},
   "source": [
    "# Python Exercise No: 1\n"
   ]
  },
  {
   "cell_type": "markdown",
   "metadata": {},
   "source": [
    "# Subject: Data types, Operators and Input and Output in python"
   ]
  },
  {
   "cell_type": "markdown",
   "metadata": {},
   "source": [
    "### 1. What is variable? And rules to declare a variable in python?"
   ]
  },
  {
   "cell_type": "markdown",
   "metadata": {},
   "source": [
    " Ans :  A variable is a memory location where a programmer can store a value. \n",
    "            Example : If a=5,b=\"Name\" means we store value 5 and string 'Name' in variable a & b.\n",
    "    \n",
    "    \n",
    "   - Value is either string, numeric etc. Example : \"Sara\", 120, 25.36\n",
    "   - Variables are created when first assigned.\n",
    "   - Variables must be assigned before being referenced.\n",
    "   - The value stored in a variable can be accessed or updated later.\n",
    "   \n",
    " Python Variable Name Rules:\n",
    "  - Must begin with a letter (a - z, A - B) or underscore (_).\n",
    "  - Other characters can be letters, numbers or '_'.\n",
    "  - Case Sensitive i.e in python \"Name\" is diffrrent from \"name\".\n",
    "  - Variable name cannot start with letters."
   ]
  },
  {
   "cell_type": "markdown",
   "metadata": {},
   "source": [
    "### 2. What are the primitive built-in types in python?"
   ]
  },
  {
   "cell_type": "markdown",
   "metadata": {},
   "source": [
    " Ans : Python has four primitive types: \n",
    " 1. integers :\n",
    "    Integers are the numeric values used in data or whole numbers.\n",
    "    Example -  price=420\n",
    " \n",
    " 2. floats :\n",
    "    Floats are the floating points.We can use it for decimal numbers such as a= 4.5\n",
    " \n",
    " 3. booleans :\n",
    "    Boolean are data types that can take up the values: True and False. \n",
    "    They are useful for in conditional and comparison expression.\n",
    " \n",
    " 4. strings :\n",
    "    strings store the alphabet,word using a variable.It can be used in single or double quoted sign.o.w it will give a               error.\n",
    "    \n",
    "     "
   ]
  },
  {
   "cell_type": "markdown",
   "metadata": {},
   "source": [
    "### 3. What is the mutatble and immutable object in Python,Which datatypes are immutable in Python?\n",
    "\n"
   ]
  },
  {
   "cell_type": "markdown",
   "metadata": {},
   "source": [
    "Ans :  There are two types of objects in python i.e. Mutable and Immutable objects. \n",
    "      A mutable object can be changed after it is created, and an immutable object cannot change after it is created once.\n",
    "        \n",
    "   - Immutable Objects : These are of in-built types like int,float,bool,string,tuple.\n",
    "   - Mutable Objects : These are of type list,dict,set.\n",
    "    \n",
    "    "
   ]
  },
  {
   "cell_type": "markdown",
   "metadata": {},
   "source": [
    " Immutable example:\n",
    "tup = (0, 1, 2, 3)  \n",
    "tup[0] = 4\n",
    "print(tup)\n",
    "\n",
    "string = \"Data\"\n",
    "string[0] = 'b'\n",
    "print(string)\n",
    "\n",
    "It returns error because tuples  and strings both are immutable. \n"
   ]
  },
  {
   "cell_type": "code",
   "execution_count": 14,
   "metadata": {},
   "outputs": [
    {
     "name": "stdout",
     "output_type": "stream",
     "text": [
      "['red', 'blue', 'green']\n",
      "['pink', 'blue', 'green']\n"
     ]
    }
   ],
   "source": [
    "# Mutable example:\n",
    "color = [\"red\", \"blue\", \"green\"] \n",
    "print(color) \n",
    "  \n",
    "color[0] = \"pink\"\n",
    "print(color)  \n"
   ]
  },
  {
   "cell_type": "markdown",
   "metadata": {},
   "source": [
    "### 4. How to get the length of the string?\n"
   ]
  },
  {
   "cell_type": "markdown",
   "metadata": {},
   "source": [
    "Ans : The length function gives the length of the variable stored.In python we use len() function to get length. "
   ]
  },
  {
   "cell_type": "code",
   "execution_count": 1,
   "metadata": {},
   "outputs": [
    {
     "data": {
      "text/plain": [
       "16"
      ]
     },
     "execution_count": 1,
     "metadata": {},
     "output_type": "execute_result"
    }
   ],
   "source": [
    "# To get length of variable\n",
    "var=\"jupyter notebook\"\n",
    "len(var)"
   ]
  },
  {
   "cell_type": "markdown",
   "metadata": {},
   "source": [
    "### 5. Which are the Relational Operators and their used in python?\n"
   ]
  },
  {
   "cell_type": "markdown",
   "metadata": {},
   "source": [
    "Ans : Relational operators are symbols that perform operations on data and return a result as true or false depending on the           comparison conditions.\n",
    "      Relational operators can be used to compare numbers as well as strings.\n",
    "      \n",
    " Following are some relational operators in python:\n",
    "     > : Greater than\n",
    "     < : Less than\n",
    "     >=: Greater than or equal to\n",
    "     <=: Less than or equal to\n",
    "     ==: Equals\n",
    "     !=: Not equal to\n",
    "    \n",
    "    "
   ]
  },
  {
   "cell_type": "markdown",
   "metadata": {},
   "source": [
    "### 6. what is the result of float(5), 10>=\"9\", 10**2, len(\"basic python\")?\n"
   ]
  },
  {
   "cell_type": "code",
   "execution_count": 2,
   "metadata": {},
   "outputs": [
    {
     "name": "stdout",
     "output_type": "stream",
     "text": [
      "5.0\n",
      "100\n",
      "12\n"
     ]
    }
   ],
   "source": [
    "# results \n",
    "print(float(5))\n",
    "#print(10>=\"9\")  #   It gives error '>=' not supported between instances of 'int' and 'str' i.e 9 is string here.\n",
    "\n",
    "print(10**2)\n",
    "print(len(\"basic python\"))"
   ]
  },
  {
   "cell_type": "markdown",
   "metadata": {},
   "source": [
    "### 7. what is meant by input and output? Which fuction is used to display output in python?\n"
   ]
  },
  {
   "cell_type": "markdown",
   "metadata": {},
   "source": [
    "Ans :  Input is the data given by the user to computer to use it to perform actions and output is the result printed by computer        for the given input.\n",
    "       In python  print(argument) function is used to display the argument provided by user."
   ]
  },
  {
   "cell_type": "code",
   "execution_count": 3,
   "metadata": {},
   "outputs": [
    {
     "name": "stdout",
     "output_type": "stream",
     "text": [
      "Data Science\n",
      "Data Science\n"
     ]
    }
   ],
   "source": [
    "sub=input()\n",
    "print(sub)"
   ]
  },
  {
   "cell_type": "markdown",
   "metadata": {},
   "source": [
    "### 8. Convert any integer number into float, string, and convert float into string, integer Convert string into float, integer?\n"
   ]
  },
  {
   "cell_type": "code",
   "execution_count": 4,
   "metadata": {},
   "outputs": [
    {
     "name": "stdout",
     "output_type": "stream",
     "text": [
      "70.0 <class 'float'>\n",
      "70 <class 'str'>\n"
     ]
    }
   ],
   "source": [
    "# to convert integer number into float,string\n",
    "a=70\n",
    "b=float(a)\n",
    "c=str(a)\n",
    "print(b,type(b))\n",
    "print(c,type(c))\n"
   ]
  },
  {
   "cell_type": "code",
   "execution_count": 5,
   "metadata": {},
   "outputs": [
    {
     "name": "stdout",
     "output_type": "stream",
     "text": [
      "3 <class 'int'>\n",
      "3.7 <class 'str'>\n"
     ]
    }
   ],
   "source": [
    "# To convert float into integer ,string\n",
    "d=3.7\n",
    "e=int(d)\n",
    "f=str(d)\n",
    "print(e,type(e))\n",
    "print(f,type(f))\n"
   ]
  },
  {
   "cell_type": "code",
   "execution_count": 6,
   "metadata": {},
   "outputs": [
    {
     "name": "stdout",
     "output_type": "stream",
     "text": [
      "30 <class 'int'>\n",
      "30.0 <class 'float'>\n"
     ]
    }
   ],
   "source": [
    "#Convert string into float, integer\n",
    "number=\"30\"\n",
    "h=int(number)\n",
    "k=float(number)\n",
    "print(h,type(h))\n",
    "print(k,type(k))\n"
   ]
  },
  {
   "cell_type": "markdown",
   "metadata": {},
   "source": [
    "### 9. Take integer number using input function from user?\n"
   ]
  },
  {
   "cell_type": "code",
   "execution_count": 7,
   "metadata": {},
   "outputs": [
    {
     "name": "stdout",
     "output_type": "stream",
     "text": [
      "Enter a number:45\n",
      "45\n"
     ]
    }
   ],
   "source": [
    "number=int(input(\"Enter a number:\"))\n",
    "print(number)"
   ]
  },
  {
   "cell_type": "markdown",
   "metadata": {},
   "source": [
    "### 10. Take two number using input function and find their sum?\n"
   ]
  },
  {
   "cell_type": "code",
   "execution_count": 8,
   "metadata": {},
   "outputs": [
    {
     "name": "stdout",
     "output_type": "stream",
     "text": [
      "Enter first number:50\n",
      "Enter second number:67\n",
      "117\n",
      "Enter first number:23.6\n",
      "Enter second number:12.5\n",
      "36.1\n"
     ]
    }
   ],
   "source": [
    "number1=int(input(\"Enter first number:\"))\n",
    "number2=int(input(\"Enter second number:\"))\n",
    "addition=number1+number2\n",
    "print(addition)\n",
    "\n",
    "number1=float(input(\"Enter first number:\"))\n",
    "number2=float(input(\"Enter second number:\"))\n",
    "addition=number1+number2\n",
    "print(addition)\n"
   ]
  },
  {
   "cell_type": "markdown",
   "metadata": {},
   "source": [
    "### 11. Write a python program to accept two number using input function and use all the arithmetic operators?\n"
   ]
  },
  {
   "cell_type": "code",
   "execution_count": 9,
   "metadata": {},
   "outputs": [
    {
     "name": "stdout",
     "output_type": "stream",
     "text": [
      "Enter first  number:15\n",
      "Enter second number:4\n",
      "The arithmetic operators such as addition,suntraction ,multiplication,division,modulus,power,floor division of two numbers are as 19,11,60,3.75,3,50625,3\n"
     ]
    }
   ],
   "source": [
    "first=int(input(\"Enter first  number:\"))\n",
    "second=int(input(\"Enter second number:\"))\n",
    "add=first+second\n",
    "sub=first-second\n",
    "mult=first*second\n",
    "div=first/second\n",
    "modulus=first%second\n",
    "power=first**second\n",
    "floor=first//second\n",
    "\n",
    "print(\"The arithmetic operators such as addition,suntraction ,multiplication,division,modulus,power,floor division of two numbers are as {0},{1},{2},{3},{4},{5},{6}\".format(add,sub,mult,div,modulus,power,floor))"
   ]
  },
  {
   "cell_type": "markdown",
   "metadata": {},
   "source": [
    "### 12. Check whether two numbers are equal or not using identity operator?\n"
   ]
  },
  {
   "cell_type": "code",
   "execution_count": 10,
   "metadata": {},
   "outputs": [
    {
     "name": "stdout",
     "output_type": "stream",
     "text": [
      "False\n",
      "Both numbers are same\n"
     ]
    }
   ],
   "source": [
    "num_1=40\n",
    "num_2=20\n",
    "if (num_1 is num_2):\n",
    "    print(\"True\")\n",
    "else:\n",
    "    print(\"False\")\n",
    "    \n",
    "\n",
    "num_1=10\n",
    "num_2=10\n",
    "if (num_1 is num_2):\n",
    "    print(\"Both numbers are same\")\n",
    "else:\n",
    "    print(\"Both numbers are  not same\")   "
   ]
  },
  {
   "cell_type": "markdown",
   "metadata": {},
   "source": [
    "### 13. Write a python program to check whether two string are equal or not using comparison operator?\n"
   ]
  },
  {
   "cell_type": "markdown",
   "metadata": {},
   "source": [
    "Ans : If the values of two variables are equal, then the condition becomes true.If they are not equal then it returns false.\n",
    "     "
   ]
  },
  {
   "cell_type": "code",
   "execution_count": 11,
   "metadata": {},
   "outputs": [
    {
     "name": "stdout",
     "output_type": "stream",
     "text": [
      "False\n",
      "True\n"
     ]
    }
   ],
   "source": [
    "country1=\"India\"\n",
    "country2=\"US\"\n",
    "country3=\"india\"\n",
    "\n",
    "print(country1 == country2)\n",
    "print(country1 != country3)"
   ]
  },
  {
   "cell_type": "markdown",
   "metadata": {},
   "source": [
    "### 14. Assign same value to three variable name a, b and c using one line command?\n"
   ]
  },
  {
   "cell_type": "code",
   "execution_count": 12,
   "metadata": {},
   "outputs": [
    {
     "name": "stdout",
     "output_type": "stream",
     "text": [
      "50 50 50\n",
      "120 120 120\n"
     ]
    }
   ],
   "source": [
    "a,b,c=50,50,50\n",
    "print(a,b,c)\n",
    "\n",
    "# OR\n",
    "a=b=c=120\n",
    "print(a,b,c)"
   ]
  },
  {
   "cell_type": "markdown",
   "metadata": {},
   "source": [
    "### 15. How to print address of variables in python?"
   ]
  },
  {
   "cell_type": "markdown",
   "metadata": {},
   "source": [
    "Ans : We can print the address of variable using id() function."
   ]
  },
  {
   "cell_type": "code",
   "execution_count": 13,
   "metadata": {},
   "outputs": [
    {
     "name": "stdout",
     "output_type": "stream",
     "text": [
      "140718084170256\n",
      "1983135218416\n"
     ]
    }
   ],
   "source": [
    "num=5\n",
    "print(id(num))\n",
    "\n",
    "var=\"Data Science\"\n",
    "print(id(var))\n"
   ]
  },
  {
   "cell_type": "markdown",
   "metadata": {},
   "source": [
    "### 16. Introduction of python? For eg, invention, version and installation?"
   ]
  },
  {
   "cell_type": "markdown",
   "metadata": {},
   "source": [
    "Ans :  Python is a widely used general-purpose, high level programming language. It was created by Guido van Rossum in 1991 and further developed by the Python Software Foundation.\n",
    "    Python is named after the comedy television show Monty Python’s Flying Circus. It is not named after the Python snake.\n",
    "\n",
    "   1. Readable: Python is a very readable language.\n",
    "   2. Easy to Learn: Learning python is easy and it is easy to understand the language and thus easy to learn.\n",
    "   3. There are two major Python versions: Python 2 and Python 3. Both are quite different. We can check the version of python         using command 'python --version'.\n",
    "\n",
    "You can install Python on any operating system such as Windows, Mac OS X, Linux/Unix and others.\n",
    "\n",
    "To install the Python on your operating system, go to this link: https://www.python.org/downloads/.\n",
    "       \n",
    "       \n",
    "  OR Use following steps to install python:\n",
    "   - Search Anaconda on your favorite search engine and open link with address anaconda.org.\n",
    "   - Hover over Download Anaconda on the Anaconda homepage.\n",
    "   - Select your operating system configuration.\n",
    "   - Let the Anaconda finish downloading.\n",
    "   - Click Next to start the installing process.\n",
    "   - Agree to the Terms and Conditions.\n",
    "   - Select “Just Me”.\n",
    "   - Select the location where you want to download Anaconda.\n",
    "   -  1- Check the box that says “Add Anaconda to my Path Variables”.\n",
    "      2- Click Install.\n",
    "   - Let Anaconda finish downloading.\n",
    "   - Click Next to finish installation.\n",
    "   - To open Jupyter Notebook, Hover over to windows home and scroll down . \n",
    "   - You will find Anaconda folder, Click over it and select Anaconda Navigator.\n",
    "   - Click over launch Jupyter to open Jupyter Notebook.\n",
    "   - You will be redirected to your browser with Jupyter Notebook.\n",
    "\n",
    "\n"
   ]
  },
  {
   "cell_type": "code",
   "execution_count": null,
   "metadata": {},
   "outputs": [],
   "source": []
  }
 ],
 "metadata": {
  "kernelspec": {
   "display_name": "Python 3",
   "language": "python",
   "name": "python3"
  },
  "language_info": {
   "codemirror_mode": {
    "name": "ipython",
    "version": 3
   },
   "file_extension": ".py",
   "mimetype": "text/x-python",
   "name": "python",
   "nbconvert_exporter": "python",
   "pygments_lexer": "ipython3",
   "version": "3.7.7"
  }
 },
 "nbformat": 4,
 "nbformat_minor": 2
}
