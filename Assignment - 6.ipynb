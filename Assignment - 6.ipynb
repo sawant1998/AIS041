{
 "cells": [
  {
   "cell_type": "markdown",
   "metadata": {},
   "source": [
    "# Python Exercise No: 6 "
   ]
  },
  {
   "cell_type": "markdown",
   "metadata": {},
   "source": [
    "# Subject: Control Statements "
   ]
  },
  {
   "cell_type": "markdown",
   "metadata": {},
   "source": [
    "### 1. Which are the control statements in python? "
   ]
  },
  {
   "cell_type": "markdown",
   "metadata": {},
   "source": [
    "Python supports 3 types of control statements such as,\n",
    "\n",
    "1) Break : The break statement in Python is used to terminate a loop,i.e it simply exits out of the loop.\n",
    "  \n",
    "2) Continue : It will skip the execution of the rest of the statements in that loop and proceed with the next iteration.\n",
    "\n",
    "3) Pass: Pass keyword helps in avoiding errors that result due to an empty loop.\n"
   ]
  },
  {
   "cell_type": "markdown",
   "metadata": {},
   "source": [
    "####  Basic program based on control statements: "
   ]
  },
  {
   "cell_type": "markdown",
   "metadata": {},
   "source": [
    "- Conditionals (or Selection): which are used to execute one or more statements if a condition is met.\n",
    "    \n",
    "- Loops (or Iteration): which purpose is to repeat a statement a certain number of times or while a condition is fulfilled."
   ]
  },
  {
   "cell_type": "markdown",
   "metadata": {},
   "source": [
    "### 2. A python program to test whether a given number is in between 1 and 10? "
   ]
  },
  {
   "cell_type": "code",
   "execution_count": 1,
   "metadata": {},
   "outputs": [
    {
     "name": "stdout",
     "output_type": "stream",
     "text": [
      "False\n"
     ]
    }
   ],
   "source": [
    "num = 13 in range(1, 11)\n",
    "print(num)\n",
    "\n",
    "\n",
    "\n",
    "    "
   ]
  },
  {
   "cell_type": "markdown",
   "metadata": {},
   "source": [
    "### 3. Write a python program to check whether number is even or odd? "
   ]
  },
  {
   "cell_type": "code",
   "execution_count": 2,
   "metadata": {},
   "outputs": [
    {
     "name": "stdout",
     "output_type": "stream",
     "text": [
      "Enter a number: 12\n",
      "12 is Even\n"
     ]
    }
   ],
   "source": [
    "num = int(input(\"Enter a number: \"))\n",
    "if (num % 2) == 0:\n",
    "   print(\"{} is Even\".format(num))\n",
    "else:\n",
    "   print(\"{} is Odd\".format(num))"
   ]
  },
  {
   "cell_type": "markdown",
   "metadata": {},
   "source": [
    "### 4. Write a python program to check whether a list is empty or not using len () function? "
   ]
  },
  {
   "cell_type": "code",
   "execution_count": 3,
   "metadata": {},
   "outputs": [
    {
     "name": "stdout",
     "output_type": "stream",
     "text": [
      "list is empty\n"
     ]
    }
   ],
   "source": [
    "a=[] # Empty lists evaluate to False\n",
    "if not a:\n",
    "    print (\"list is empty\")\n",
    "else:\n",
    "    print (\"list is not empty\")"
   ]
  },
  {
   "cell_type": "markdown",
   "metadata": {},
   "source": [
    "### 5. A python program to check whether a given number is zero, positive or negative? \n"
   ]
  },
  {
   "cell_type": "code",
   "execution_count": 4,
   "metadata": {},
   "outputs": [
    {
     "name": "stdout",
     "output_type": "stream",
     "text": [
      "Enter a number: 4.5\n",
      "Positive number\n"
     ]
    }
   ],
   "source": [
    "num = float(input(\"Enter a number: \"))\n",
    "if num > 0:\n",
    "   print(\"Positive number\")\n",
    "elif num == 0:\n",
    "   print(\"Zero\")\n",
    "else:\n",
    "   print(\"Negative number\")"
   ]
  },
  {
   "cell_type": "markdown",
   "metadata": {},
   "source": [
    "### 6. Print first 10 natural numbers using while loop and for loop? "
   ]
  },
  {
   "cell_type": "code",
   "execution_count": 5,
   "metadata": {},
   "outputs": [
    {
     "name": "stdout",
     "output_type": "stream",
     "text": [
      "Enter a number:11\n",
      "1\n",
      "2\n",
      "3\n",
      "4\n",
      "5\n",
      "6\n",
      "7\n",
      "8\n",
      "9\n",
      "10\n",
      "11\n"
     ]
    }
   ],
   "source": [
    "num= int(input(\"Enter a number:\"))\n",
    "for i in range(1,num+1):\n",
    "    print(i)"
   ]
  },
  {
   "cell_type": "code",
   "execution_count": 6,
   "metadata": {},
   "outputs": [
    {
     "name": "stdout",
     "output_type": "stream",
     "text": [
      "Enter a number:11\n",
      "1\n",
      "2\n",
      "3\n",
      "4\n",
      "5\n",
      "6\n",
      "7\n",
      "8\n",
      "9\n",
      "10\n"
     ]
    }
   ],
   "source": [
    "num=int(input(\"Enter a number:\"))\n",
    "i=1\n",
    "while (i<num):\n",
    "   print(i)\n",
    "   i=i+1\n",
    "\n"
   ]
  },
  {
   "cell_type": "markdown",
   "metadata": {},
   "source": [
    "### 7. Write a python program to reverse the following list using for loop? \n"
   ]
  },
  {
   "cell_type": "markdown",
   "metadata": {},
   "source": [
    "### lt1 = [12, 7, 9, 14, 5] "
   ]
  },
  {
   "cell_type": "code",
   "execution_count": 7,
   "metadata": {},
   "outputs": [
    {
     "name": "stdout",
     "output_type": "stream",
     "text": [
      "5\n",
      "14\n",
      "9\n",
      "7\n",
      "12\n"
     ]
    }
   ],
   "source": [
    "lt1 = [12, 7, 9, 14, 5]\n",
    "for i in range(len(lt1)-1,-1,-1):\n",
    "    print(lt1[i])"
   ]
  },
  {
   "cell_type": "markdown",
   "metadata": {},
   "source": [
    "### 8. Write a python program to multiply all the items in a list using for loop? "
   ]
  },
  {
   "cell_type": "code",
   "execution_count": 8,
   "metadata": {},
   "outputs": [
    {
     "name": "stdout",
     "output_type": "stream",
     "text": [
      "10\n",
      "20\n",
      "30\n",
      "40\n",
      "15\n",
      "45\n"
     ]
    }
   ],
   "source": [
    "lst=[2,4,6,8,3,9]\n",
    "num=5\n",
    "for i in lst:\n",
    "    mult=i*num\n",
    "    print(mult)\n",
    "    "
   ]
  },
  {
   "cell_type": "markdown",
   "metadata": {},
   "source": [
    "### 9. Write a python program to print numbers in list which are divisible by 6 and if number is greater than 150 then stop the iteration? "
   ]
  },
  {
   "cell_type": "markdown",
   "metadata": {},
   "source": [
    "### list1 = [12, 15, 36, 20, 55, 47, 102, 150, 146, 180] "
   ]
  },
  {
   "cell_type": "code",
   "execution_count": 9,
   "metadata": {},
   "outputs": [
    {
     "name": "stdout",
     "output_type": "stream",
     "text": [
      "12\n",
      "36\n",
      "102\n",
      "150\n"
     ]
    }
   ],
   "source": [
    "list1 = [12, 15, 36, 20, 55, 47, 102, 150, 146, 180]\n",
    "\n",
    "for num in list1:\n",
    "    if (num > 150):\n",
    "        break\n",
    "    if(num % 6 == 0):\n",
    "        print(num)"
   ]
  },
  {
   "cell_type": "markdown",
   "metadata": {},
   "source": [
    "### 10. Write a program to count a specific letter in the string.? "
   ]
  },
  {
   "cell_type": "code",
   "execution_count": 10,
   "metadata": {},
   "outputs": [
    {
     "name": "stdout",
     "output_type": "stream",
     "text": [
      "Count of 's' is : 3\n"
     ]
    }
   ],
   "source": [
    "string = \"statistics\"\n",
    "count = 0\n",
    "  \n",
    "for i in string: \n",
    "    if i == 's': \n",
    "        count = count + 1\n",
    "print(\"Count of 's' is :\",count)"
   ]
  },
  {
   "cell_type": "code",
   "execution_count": null,
   "metadata": {},
   "outputs": [],
   "source": []
  }
 ],
 "metadata": {
  "kernelspec": {
   "display_name": "Python 3",
   "language": "python",
   "name": "python3"
  },
  "language_info": {
   "codemirror_mode": {
    "name": "ipython",
    "version": 3
   },
   "file_extension": ".py",
   "mimetype": "text/x-python",
   "name": "python",
   "nbconvert_exporter": "python",
   "pygments_lexer": "ipython3",
   "version": "3.7.7"
  }
 },
 "nbformat": 4,
 "nbformat_minor": 2
}
