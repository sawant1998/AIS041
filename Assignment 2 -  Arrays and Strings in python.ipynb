{
 "cells": [
  {
   "cell_type": "markdown",
   "metadata": {},
   "source": [
    "#                                 Python Exercise No: 2 \n"
   ]
  },
  {
   "cell_type": "markdown",
   "metadata": {},
   "source": [
    "#                        <font color=red>Subject: Arrays and String in python</font> "
   ]
  },
  {
   "cell_type": "markdown",
   "metadata": {},
   "source": [
    "### 1. What is an array? "
   ]
  },
  {
   "cell_type": "markdown",
   "metadata": {},
   "source": [
    "Ans : If we have to store 5 integers then it is simple but if we have to store 500 integers we have to create 500 variables,so          it becomes time consuming and sometimes complex.So to avod this we can use function to store these numbers called array.\n",
    "\n",
    "An array is a data structure that contains a group of elements. Typically these elements are all of the same data type, such    as an integer or string.\n",
    "   \n",
    "An array is a data structure that stores a collection of items. Like lists, arrays are ordered, mutable, enclosed in square      brackets, and able to store non-unique items.\n",
    "     \n",
    "Array in Python can be created by importing array module. array(data_type, value_list) is used to create an array with data type and value list .Numpy is also used to create an array.\n",
    "  \n",
    "To use arrays in Python, you need to import either an array module or a NumPy package.\n",
    "     \n",
    "      "
   ]
  },
  {
   "cell_type": "code",
   "execution_count": 1,
   "metadata": {},
   "outputs": [],
   "source": [
    "import array as arr \n",
    "a = arr.array('i', [1, 2, 3]) \n",
    "b = arr.array('d', [2.5, 3.2, 3.3]) \n",
    "\n",
    "  "
   ]
  },
  {
   "cell_type": "markdown",
   "metadata": {},
   "source": [
    "### 2. What is difference between array and list?"
   ]
  },
  {
   "cell_type": "markdown",
   "metadata": {},
   "source": [
    "Ans : Arrays and lists are both used in Python to store data, but they don't serve exactly the same purposes. They both can be         used to store any data type (real numbers, strings, etc).\n",
    "    \n",
    "    \n",
    "> The main difference between a list and an array is the functions that you can perform to them. For example, you can divide an array by 3, and each number in the array will be divided by 3 and the result will be printed if you request it. If you try to divide a list by 3, Python will tell you that it can't be done, and an error will be thrown.\n",
    "     \n",
    "     \n",
    "**Following are the differences between lists and arrays in Python:**\n",
    "  1. Arrays need to be declared. Lists don’t, because they are a part of Python's syntax. This is the reason lists are               more often used than arrays. But in case you want to perform some arithmetic function to your list, one should go               with arrays instead. \n",
    "  2. Arrays can store very big data.\n",
    "  3. Lists cannot directly handle math operations. For example, you can divide each element of an array by the same                   number with just one line of code. If you try the same with a list, you’ll get an error.\n",
    "  4. Elements are stored consecutively in arrays whereas it is stored randomly in  lists.\n",
    "  5. Arrays are of fixed size. In contrast, lists are dynamic and flexible and can expand and contract its size.\n",
    "  6. An array is the data structure that contains a collection of similar type data elements whereas the list is                     considered as non-primitive data structure contains a collection of unordered elements.\n",
    "           "
   ]
  },
  {
   "cell_type": "code",
   "execution_count": 2,
   "metadata": {},
   "outputs": [
    {
     "name": "stdout",
     "output_type": "stream",
     "text": [
      "[1. 2. 3. 4.]\n",
      "<class 'numpy.ndarray'>\n"
     ]
    }
   ],
   "source": [
    "import numpy as np\n",
    "array = np.array([3, 6, 9, 12])\n",
    "division = array/3\n",
    "print(division)\n",
    "print (type(division))\n",
    "\n"
   ]
  },
  {
   "cell_type": "code",
   "execution_count": 3,
   "metadata": {},
   "outputs": [],
   "source": [
    "#list = [3, 6, 9, 12]\n",
    "#division = list/3\n",
    "#This will give error,because we cannot do operations with list. "
   ]
  },
  {
   "cell_type": "markdown",
   "metadata": {},
   "source": [
    "### 3. How to change the shape of an array? "
   ]
  },
  {
   "cell_type": "markdown",
   "metadata": {},
   "source": [
    "**Ans :**  Reshaping means changing the shape of an array.\n",
    "\n",
    " The shape of an array is the number of elements in each dimension.\n",
    "\n",
    " By reshaping we can add or remove dimensions or change number of elements in each dimension.\n",
    "    \n",
    "    \n",
    "\n"
   ]
  },
  {
   "cell_type": "code",
   "execution_count": 4,
   "metadata": {},
   "outputs": [
    {
     "name": "stdout",
     "output_type": "stream",
     "text": [
      "(3,)\n"
     ]
    }
   ],
   "source": [
    "a = np.array([1,2,3])\n",
    "print(a.shape)"
   ]
  },
  {
   "cell_type": "code",
   "execution_count": 5,
   "metadata": {},
   "outputs": [
    {
     "name": "stdout",
     "output_type": "stream",
     "text": [
      "[[2 3]\n",
      " [4 5]\n",
      " [6 7]]\n"
     ]
    }
   ],
   "source": [
    "x = np.array([2,3,4,5,6,7]) \n",
    "x    \n",
    "b= x.reshape(3,2)\n",
    "print(b)"
   ]
  },
  {
   "cell_type": "markdown",
   "metadata": {},
   "source": [
    "### 4. What does the name.strip () do? "
   ]
  },
  {
   "cell_type": "markdown",
   "metadata": {},
   "source": [
    "**Ans:** strip() is an inbuilt function in Python programming language that returns a copy of the string with both leading and           trailing characters removed (based on the string argument passed).\n",
    "**Syntax:**\n",
    "- string.strip([chars])\n",
    "- Parameter: \n",
    "  There is only one optional parameter in it:\n",
    "    1. chars - a string specifying the set of characters to be removed. \n",
    "- If the optional chars parameter is not given, all leading and trailing whitespaces are removed from the string.\n",
    "- Return Value:\n",
    "  Returns a copy of the string with both leading and trailing characters removed."
   ]
  },
  {
   "cell_type": "code",
   "execution_count": 6,
   "metadata": {},
   "outputs": [
    {
     "name": "stdout",
     "output_type": "stream",
     "text": [
      "    red is red    \n",
      "red is red\n",
      "is\n"
     ]
    }
   ],
   "source": [
    "string = \"\"\"    red is red    \"\"\" \n",
    "  \n",
    "# prints the string without stripping \n",
    "print(string)  \n",
    "  \n",
    "# prints the string by removing leading and trailing whitespaces \n",
    "print(string.strip())    \n",
    "  \n",
    "# prints the string by removing geeks \n",
    "print(string.strip(\" red\")) "
   ]
  },
  {
   "cell_type": "markdown",
   "metadata": {},
   "source": [
    "### 5. When we use triple single or triple double quotes to define a string? "
   ]
  },
  {
   "cell_type": "markdown",
   "metadata": {},
   "source": [
    "**Ans:**  Printing strings on multiple lines can make text more readable to humans. With multiple lines, strings can be grouped          into clean and orderly text, formatted as a letter, or used to maintain the linebreaks of a poem or song lyrics.\n",
    "         To create strings that span multiple lines, triple single quotes ''' or triple double quotes \"\"\" are used to enclose            the string.\n",
    "         \n",
    " With triple quotes, you can print strings on multiple lines to make text, especially lengthy text, easier to read.\n",
    "Example:\n"
   ]
  },
  {
   "cell_type": "code",
   "execution_count": 7,
   "metadata": {},
   "outputs": [
    {
     "name": "stdout",
     "output_type": "stream",
     "text": [
      "\n",
      "This string is on\n",
      "multiple lines\n",
      "within three single\n",
      "quotes on either side.\n",
      "\n"
     ]
    }
   ],
   "source": [
    "print('''\n",
    "This string is on\n",
    "multiple lines\n",
    "within three single\n",
    "quotes on either side.\n",
    "''')\n"
   ]
  },
  {
   "cell_type": "code",
   "execution_count": 8,
   "metadata": {},
   "outputs": [
    {
     "name": "stdout",
     "output_type": "stream",
     "text": [
      "\n",
      "This string is on\n",
      "multiple lines\n",
      "within three double\n",
      "quotes on either side.\n",
      "\n"
     ]
    }
   ],
   "source": [
    "print(\"\"\"\n",
    "This string is on\n",
    "multiple lines\n",
    "within three double\n",
    "quotes on either side.\n",
    "\"\"\")"
   ]
  },
  {
   "cell_type": "markdown",
   "metadata": {},
   "source": [
    "**Coding Exercise:** "
   ]
  },
  {
   "cell_type": "markdown",
   "metadata": {},
   "source": [
    "### 6. Create a character type array? "
   ]
  },
  {
   "cell_type": "markdown",
   "metadata": {},
   "source": [
    "**Ans:** \n",
    "chr() does the reverse of ord(). Given a numeric value n, chr(n) returns a string representing the character that corresponds to n.\n",
    "\n",
    "\n"
   ]
  },
  {
   "cell_type": "code",
   "execution_count": 9,
   "metadata": {},
   "outputs": [
    {
     "data": {
      "text/plain": [
       "chararray([['', '', ''],\n",
       "           ['', '', ''],\n",
       "           ['', '', '']], dtype='|S1')"
      ]
     },
     "execution_count": 9,
     "metadata": {},
     "output_type": "execute_result"
    }
   ],
   "source": [
    "import numpy as np\n",
    "#b = np.array(['h','e','l','l','o'])\n",
    "charar = np.chararray((3, 3))\n",
    "charar"
   ]
  },
  {
   "cell_type": "code",
   "execution_count": 10,
   "metadata": {},
   "outputs": [
    {
     "data": {
      "text/plain": [
       "chararray([[b'a', b'a', b'a'],\n",
       "           [b'a', b'a', b'a'],\n",
       "           [b'a', b'a', b'a']], dtype='|S1')"
      ]
     },
     "execution_count": 10,
     "metadata": {},
     "output_type": "execute_result"
    }
   ],
   "source": [
    "charar[:] = 'a'\n",
    "charar"
   ]
  },
  {
   "cell_type": "markdown",
   "metadata": {},
   "source": [
    "### 7. Create a “hello” string and access the string character \"ll\" in python? "
   ]
  },
  {
   "cell_type": "code",
   "execution_count": 11,
   "metadata": {},
   "outputs": [
    {
     "name": "stdout",
     "output_type": "stream",
     "text": [
      "ll\n"
     ]
    }
   ],
   "source": [
    "# Access  string character \"ll\"\n",
    "string=\"hello\"\n",
    "print(string[2:4])\n",
    "#print(string[-3:-1])  "
   ]
  },
  {
   "cell_type": "markdown",
   "metadata": {},
   "source": [
    "### 8. Create an array to get largest and smallest number using minimum and maximum function? "
   ]
  },
  {
   "cell_type": "code",
   "execution_count": 14,
   "metadata": {},
   "outputs": [
    {
     "name": "stdout",
     "output_type": "stream",
     "text": [
      "Largest no in the array is: 67\n",
      "Smallest no in the array is: 5\n"
     ]
    }
   ],
   "source": [
    "import array as arr \n",
    "array=arr.array('i',[45,20,12,34,20,67,5])\n",
    "print(\"Largest no in the array is:\" ,max(array))\n",
    "print(\"Smallest no in the array is:\",min(array))\n"
   ]
  },
  {
   "cell_type": "markdown",
   "metadata": {},
   "source": [
    "### 9. If name is “core python” then access the \"python\" from name and reverse \"python\" using slicing? "
   ]
  },
  {
   "cell_type": "code",
   "execution_count": 15,
   "metadata": {},
   "outputs": [
    {
     "name": "stdout",
     "output_type": "stream",
     "text": [
      "core python\n",
      "python\n",
      "nohtyp\n"
     ]
    }
   ],
   "source": [
    "name=input()\n",
    "p=name[5:11]\n",
    "print(p)\n",
    "length=len(p)\n",
    "reverse=p[length::-1]\n",
    "print(reverse)\n"
   ]
  },
  {
   "cell_type": "markdown",
   "metadata": {},
   "source": [
    "### 10. Create an array of integer type and add element 12 using append method and remove one element using remove methods? "
   ]
  },
  {
   "cell_type": "code",
   "execution_count": 16,
   "metadata": {},
   "outputs": [
    {
     "name": "stdout",
     "output_type": "stream",
     "text": [
      "Initial array is: array('i', [34, 20, 19, 3, 0, 7, 50])\n",
      "Array after using append method is: array('i', [34, 20, 19, 3, 0, 7, 50, 12])\n",
      "Array after using remove method is: array('i', [34, 20, 19, 3, 7, 50, 12])\n"
     ]
    }
   ],
   "source": [
    "import array as ar\n",
    "arr=ar.array('i',[34,20,19,3,0,7,50])\n",
    "print(\"Initial array is:\",arr)\n",
    "arr.append(12)\n",
    "print(\"Array after using append method is:\",arr)\n",
    "arr.remove(0)\n",
    "print(\"Array after using remove method is:\",arr)\n",
    "\n"
   ]
  },
  {
   "cell_type": "markdown",
   "metadata": {},
   "source": [
    "### 11. Create a single dimensional and 3 dimensional array using numpy? "
   ]
  },
  {
   "cell_type": "code",
   "execution_count": 17,
   "metadata": {},
   "outputs": [
    {
     "data": {
      "text/plain": [
       "array([4, 5, 6])"
      ]
     },
     "execution_count": 17,
     "metadata": {},
     "output_type": "execute_result"
    }
   ],
   "source": [
    "import numpy as np\n",
    "# single dimensional array\n",
    "array = np.array([4,5,6])\n",
    "array\n",
    "\n"
   ]
  },
  {
   "cell_type": "code",
   "execution_count": 18,
   "metadata": {},
   "outputs": [
    {
     "data": {
      "text/plain": [
       "array([10, 13, 16, 19, 22, 25, 28, 31, 34])"
      ]
     },
     "execution_count": 18,
     "metadata": {},
     "output_type": "execute_result"
    }
   ],
   "source": [
    "array_1=np.arange(10, 35, 3)\n",
    "array_1"
   ]
  },
  {
   "cell_type": "code",
   "execution_count": 19,
   "metadata": {},
   "outputs": [
    {
     "data": {
      "text/plain": [
       "(9,)"
      ]
     },
     "execution_count": 19,
     "metadata": {},
     "output_type": "execute_result"
    }
   ],
   "source": [
    "array_1.shape"
   ]
  },
  {
   "cell_type": "code",
   "execution_count": 20,
   "metadata": {},
   "outputs": [
    {
     "data": {
      "text/plain": [
       "array([[1, 2, 3],\n",
       "       [4, 5, 6]])"
      ]
     },
     "execution_count": 20,
     "metadata": {},
     "output_type": "execute_result"
    }
   ],
   "source": [
    "#2D array\n",
    "array_2 = np.array([[1,2,3],[4,5,6]])\n",
    "array_2\n",
    "\n"
   ]
  },
  {
   "cell_type": "code",
   "execution_count": 21,
   "metadata": {},
   "outputs": [
    {
     "data": {
      "text/plain": [
       "(2, 3)"
      ]
     },
     "execution_count": 21,
     "metadata": {},
     "output_type": "execute_result"
    }
   ],
   "source": [
    "array_2.shape"
   ]
  },
  {
   "cell_type": "code",
   "execution_count": 22,
   "metadata": {},
   "outputs": [
    {
     "data": {
      "text/plain": [
       "array([[ 0,  1,  2,  3,  4],\n",
       "       [ 5,  6,  7,  8,  9],\n",
       "       [10, 11, 12, 13, 14],\n",
       "       [15, 16, 17, 18, 19]])"
      ]
     },
     "execution_count": 22,
     "metadata": {},
     "output_type": "execute_result"
    }
   ],
   "source": [
    "array = np.arange(20).reshape(4,5)\n",
    "array"
   ]
  },
  {
   "cell_type": "code",
   "execution_count": 23,
   "metadata": {},
   "outputs": [
    {
     "data": {
      "text/plain": [
       "array([[[ 0,  1,  2],\n",
       "        [ 3,  4,  5],\n",
       "        [ 6,  7,  8]],\n",
       "\n",
       "       [[ 9, 10, 11],\n",
       "        [12, 13, 14],\n",
       "        [15, 16, 17]],\n",
       "\n",
       "       [[18, 19, 20],\n",
       "        [21, 22, 23],\n",
       "        [24, 25, 26]]])"
      ]
     },
     "execution_count": 23,
     "metadata": {},
     "output_type": "execute_result"
    }
   ],
   "source": [
    "# 3D array\n",
    "array_3 = np.arange(27).reshape(3,3,3)\n",
    "array_3"
   ]
  },
  {
   "cell_type": "code",
   "execution_count": 24,
   "metadata": {},
   "outputs": [
    {
     "data": {
      "text/plain": [
       "(3, 3, 3)"
      ]
     },
     "execution_count": 24,
     "metadata": {},
     "output_type": "execute_result"
    }
   ],
   "source": [
    "array_3.shape"
   ]
  },
  {
   "cell_type": "markdown",
   "metadata": {},
   "source": [
    "### 12. Create a “Programiz” string and convert the string into upper, lower case? And replace given string by “program” using replace method? \n"
   ]
  },
  {
   "cell_type": "code",
   "execution_count": 25,
   "metadata": {},
   "outputs": [
    {
     "name": "stdout",
     "output_type": "stream",
     "text": [
      "Original string: Programiz\n",
      "String in uppercase: PROGRAMIZ\n",
      "String in lowercase: programiz\n",
      "Replaced string: program\n"
     ]
    }
   ],
   "source": [
    "string=\"Programiz\"\n",
    "print(\"Original string:\",string)\n",
    "up=string.upper()\n",
    "print(\"String in uppercase:\",up)\n",
    "low=string.lower()\n",
    "print(\"String in lowercase:\",low)\n",
    "new=string.replace(string,\"program\")\n",
    "print(\"Replaced string:\",new)"
   ]
  },
  {
   "cell_type": "markdown",
   "metadata": {},
   "source": [
    "### 13. Create a two array one using linspace and another using arange function and then subtract array1 from array 2? "
   ]
  },
  {
   "cell_type": "markdown",
   "metadata": {},
   "source": [
    "numpy.linspace(start, stop, num = 50, endpoint = True, retstep = False, dtype = None) : Returns number spaces evenly w.r.t interval. Similar to arange but instead of step it uses sample number.\n",
    " \n",
    " Parameters :\n",
    "- start  : [optional] start of interval range. By default start = 0\n",
    "- stop   : end of interval range\n",
    "- restep : If True, return (samples, step). By deflut restep = False\n",
    "- num    : [int, optional] No. of samples to generate\n",
    "- dtype  : type of output array\n",
    " \n"
   ]
  },
  {
   "cell_type": "code",
   "execution_count": 26,
   "metadata": {},
   "outputs": [
    {
     "name": "stdout",
     "output_type": "stream",
     "text": [
      "Array1 is: [15.   18.75 22.5  26.25 30.  ]\n",
      "Array1 is: [10 12 14 16 18]\n",
      "The output of the array is: [ 5.    6.75  8.5  10.25 12.  ]\n"
     ]
    }
   ],
   "source": [
    "array1=np.linspace(15,30,num=5)\n",
    "array2=np.arange(10, 20, 2)\n",
    "print(\"Array1 is:\",array1)\n",
    "print(\"Array1 is:\",array2)\n",
    "output=np.subtract(array1,array2)\n",
    "print(\"The output of the array is:\",output)"
   ]
  },
  {
   "cell_type": "code",
   "execution_count": 27,
   "metadata": {},
   "outputs": [
    {
     "name": "stdout",
     "output_type": "stream",
     "text": [
      "First array is: [[ 2 -4  5]\n",
      " [-6  2  0]]\n",
      "Second array is: [[ 0 -7  5]\n",
      " [ 5 -2  9]]\n",
      "The output of the array is: [[  2   3   0]\n",
      " [-11   4  -9]]\n"
     ]
    }
   ],
   "source": [
    "arr1=np.array([[2, -4, 5], [-6, 2, 0]]) \n",
    "arr2=np.array([[0, -7, 5], [5, -2, 9]])\n",
    "print(\"First array is:\",arr1)\n",
    "print(\"Second array is:\",arr2)\n",
    "output=np.subtract(arr1,arr2)\n",
    "print(\"The output of the array is:\",output)"
   ]
  },
  {
   "cell_type": "markdown",
   "metadata": {},
   "source": [
    "### 14. Create a “happy new year” string and then separate this string by (space) \",”? "
   ]
  },
  {
   "cell_type": "markdown",
   "metadata": {},
   "source": [
    "The split() method splits a string into a list.\n",
    "You can specify the separator, default separator is any whitespace."
   ]
  },
  {
   "cell_type": "code",
   "execution_count": 28,
   "metadata": {},
   "outputs": [
    {
     "name": "stdout",
     "output_type": "stream",
     "text": [
      "['happy', 'new', 'year']\n"
     ]
    }
   ],
   "source": [
    "wish= \"happy new year\"\n",
    "word=wish.split()\n",
    "print(word)"
   ]
  },
  {
   "cell_type": "markdown",
   "metadata": {},
   "source": [
    "### 15. Create two string and check whether one string present in another string using membership operator? "
   ]
  },
  {
   "cell_type": "markdown",
   "metadata": {},
   "source": [
    "A Membership Operator in Python can be defined as being an operator that is used to validate the membership of a value. This operator is used to test memberships in variables such as strings, integers as well as tuples."
   ]
  },
  {
   "cell_type": "code",
   "execution_count": 29,
   "metadata": {},
   "outputs": [
    {
     "name": "stdout",
     "output_type": "stream",
     "text": [
      "not present\n"
     ]
    }
   ],
   "source": [
    "str1=[\"red\",\"yellow\",\"blue\",\"pink\"]\n",
    "str2=[\"apple\",\"banana\",\"mango\",\"graps\"]\n",
    "for item in str1: \n",
    "    if item in str2: \n",
    "        print(\"Present\")     \n",
    "else: \n",
    "    print(\"not present\")"
   ]
  },
  {
   "cell_type": "code",
   "execution_count": 30,
   "metadata": {},
   "outputs": [
    {
     "name": "stdout",
     "output_type": "stream",
     "text": [
      "Present\n",
      "not present\n"
     ]
    }
   ],
   "source": [
    "str1=[\"red\",\"yellow\",\"blue\",\"pink\"]\n",
    "str2=[\"apple\",\"banana\",\"mango\",\"red\"]\n",
    "for item in str1: \n",
    "    if item in str2: \n",
    "        print(\"Present\")     \n",
    "else: \n",
    "    print(\"not present\")"
   ]
  },
  {
   "cell_type": "code",
   "execution_count": null,
   "metadata": {},
   "outputs": [],
   "source": []
  }
 ],
 "metadata": {
  "kernelspec": {
   "display_name": "Python 3",
   "language": "python",
   "name": "python3"
  },
  "language_info": {
   "codemirror_mode": {
    "name": "ipython",
    "version": 3
   },
   "file_extension": ".py",
   "mimetype": "text/x-python",
   "name": "python",
   "nbconvert_exporter": "python",
   "pygments_lexer": "ipython3",
   "version": "3.7.7"
  }
 },
 "nbformat": 4,
 "nbformat_minor": 2
}
